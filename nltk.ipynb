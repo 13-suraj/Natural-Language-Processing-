{
 "cells": [
  {
   "cell_type": "code",
   "execution_count": 16,
   "id": "916f31de-e8f2-4b37-9de3-cb63e3fdcb4b",
   "metadata": {},
   "outputs": [
    {
     "name": "stdout",
     "output_type": "stream",
     "text": [
      "Collecting nltk\n",
      "  Using cached nltk-3.9.1-py3-none-any.whl.metadata (2.9 kB)\n",
      "Requirement already satisfied: click in c:\\users\\suraj\\appdata\\local\\programs\\python\\python312\\lib\\site-packages (from nltk) (8.1.7)\n",
      "Requirement already satisfied: joblib in c:\\users\\suraj\\appdata\\local\\programs\\python\\python312\\lib\\site-packages (from nltk) (1.5.1)\n",
      "Collecting regex>=2021.8.3 (from nltk)\n",
      "  Downloading regex-2025.9.1-cp312-cp312-win_amd64.whl.metadata (41 kB)\n",
      "Collecting tqdm (from nltk)\n",
      "  Using cached tqdm-4.67.1-py3-none-any.whl.metadata (57 kB)\n",
      "Requirement already satisfied: colorama in c:\\users\\suraj\\appdata\\local\\programs\\python\\python312\\lib\\site-packages (from click->nltk) (0.4.6)\n",
      "Using cached nltk-3.9.1-py3-none-any.whl (1.5 MB)\n",
      "Downloading regex-2025.9.1-cp312-cp312-win_amd64.whl (275 kB)\n",
      "Using cached tqdm-4.67.1-py3-none-any.whl (78 kB)\n",
      "Installing collected packages: tqdm, regex, nltk\n",
      "Successfully installed nltk-3.9.1 regex-2025.9.1 tqdm-4.67.1\n"
     ]
    },
    {
     "name": "stderr",
     "output_type": "stream",
     "text": [
      "\n",
      "[notice] A new release of pip is available: 24.2 -> 25.2\n",
      "[notice] To update, run: C:\\Users\\suraj\\AppData\\Local\\Programs\\Python\\Python312\\python.exe -m pip install --upgrade pip\n"
     ]
    }
   ],
   "source": [
    "import sys\n",
    "!{sys.executable} -m pip install nltk\n"
   ]
  },
  {
   "cell_type": "code",
   "execution_count": 17,
   "id": "ea682d72-ae8f-4c37-8cd6-0872930ce2ee",
   "metadata": {},
   "outputs": [],
   "source": [
    "paragraph = '''Narendra Damodardas Modi[a] (born 17 September 1950) is an Indian politician who has served as the prime minister of India since 2014. Modi was the chief minister of Gujarat from 2001 to 2014 and is the member of parliament (MP) for Varanasi. He is a member of the Bharatiya Janata Party (BJP) and of the Rashtriya Swayamsevak Sangh (RSS), a right-wing Hindutva paramilitary volunteer organisation. He is the longest-serving prime minister outside the Indian National Congress.\n",
    "\n",
    "Modi was born and raised in Vadnagar, Bombay State (present-day Gujarat), where he completed his secondary education. He was introduced to the RSS at the age of eight, becoming a full-time worker for the organisation in Gujarat in 1971. The RSS assigned him to the BJP in 1985, and he rose through the party hierarchy, becoming general secretary in 1998.[b] In 2001, Modi was appointed chief minister of Gujarat and elected to the legislative assembly soon after. His administration is considered complicit in the 2002 Gujarat riots[c] and has been criticised for its management of the crisis. According to official records, a little over 1,000 people were killed, three-quarters of whom were Muslim; independent sources estimated 2,000 deaths, mostly Muslim.[4] A Special Investigation Team appointed by the Supreme Court of India in 2012 found no evidence to initiate prosecution proceedings against him.[d] While his policies as chief minister were credited for encouraging economic growth, his administration was criticised for failing to significantly improve health, poverty and education indices in the state.[e]\n",
    "'''"
   ]
  },
  {
   "cell_type": "code",
   "execution_count": 18,
   "id": "b606ef73-7c62-4353-8ffc-9c8ad1f90727",
   "metadata": {},
   "outputs": [],
   "source": [
    "import nltk\n",
    "from nltk.stem import PorterStemmer\n",
    "from nltk.corpus import stopwords"
   ]
  },
  {
   "cell_type": "code",
   "execution_count": 24,
   "id": "da5e1133-b290-4dbd-b208-b4f46c89213f",
   "metadata": {},
   "outputs": [
    {
     "name": "stderr",
     "output_type": "stream",
     "text": [
      "[nltk_data] Downloading package punkt_tab to\n",
      "[nltk_data]     C:\\Users\\suraj\\AppData\\Roaming\\nltk_data...\n",
      "[nltk_data]   Package punkt_tab is already up-to-date!\n"
     ]
    }
   ],
   "source": [
    "## Tokenization converts the paragraph into sentences.\n",
    "nltk.download('punkt_tab')\n",
    "# from nltk.tokenize import sent_tokenize\n",
    "sentences = nltk.sent_tokenize(paragraph)"
   ]
  },
  {
   "cell_type": "code",
   "execution_count": 25,
   "id": "93762433-b34d-470d-89f4-b6065cf34168",
   "metadata": {},
   "outputs": [
    {
     "name": "stdout",
     "output_type": "stream",
     "text": [
      "['Narendra Damodardas Modi[a] (born 17 September 1950) is an Indian politician who has served as the prime minister of India since 2014.', 'Modi was the chief minister of Gujarat from 2001 to 2014 and is the member of parliament (MP) for Varanasi.', 'He is a member of the Bharatiya Janata Party (BJP) and of the Rashtriya Swayamsevak Sangh (RSS), a right-wing Hindutva paramilitary volunteer organisation.', 'He is the longest-serving prime minister outside the Indian National Congress.', 'Modi was born and raised in Vadnagar, Bombay State (present-day Gujarat), where he completed his secondary education.', 'He was introduced to the RSS at the age of eight, becoming a full-time worker for the organisation in Gujarat in 1971.', 'The RSS assigned him to the BJP in 1985, and he rose through the party hierarchy, becoming general secretary in 1998.', '[b] In 2001, Modi was appointed chief minister of Gujarat and elected to the legislative assembly soon after.', 'His administration is considered complicit in the 2002 Gujarat riots[c] and has been criticised for its management of the crisis.', 'According to official records, a little over 1,000 people were killed, three-quarters of whom were Muslim; independent sources estimated 2,000 deaths, mostly Muslim.', '[4] A Special Investigation Team appointed by the Supreme Court of India in 2012 found no evidence to initiate prosecution proceedings against him.', '[d] While his policies as chief minister were credited for encouraging economic growth, his administration was criticised for failing to significantly improve health, poverty and education indices in the state.', '[e]']\n"
     ]
    }
   ],
   "source": [
    "print(sentences)"
   ]
  },
  {
   "cell_type": "code",
   "execution_count": 28,
   "id": "c0d7864f-8210-4453-a9f9-97fe2e10da28",
   "metadata": {},
   "outputs": [
    {
     "data": {
      "text/plain": [
       "'histori'"
      ]
     },
     "execution_count": 28,
     "metadata": {},
     "output_type": "execute_result"
    }
   ],
   "source": [
    "stemmer = PorterStemmer()\n",
    "stemmer.stem('History')"
   ]
  },
  {
   "cell_type": "code",
   "execution_count": 31,
   "id": "202a2c7f-ac5c-4c90-9fe3-e8da269b6319",
   "metadata": {},
   "outputs": [
    {
     "name": "stderr",
     "output_type": "stream",
     "text": [
      "[nltk_data] Downloading package wordnet to\n",
      "[nltk_data]     C:\\Users\\suraj\\AppData\\Roaming\\nltk_data...\n",
      "[nltk_data]   Package wordnet is already up-to-date!\n"
     ]
    },
    {
     "data": {
      "text/plain": [
       "True"
      ]
     },
     "execution_count": 31,
     "metadata": {},
     "output_type": "execute_result"
    }
   ],
   "source": [
    "from nltk.stem import WordNetLemmatizer\n",
    "nltk.download('wordnet')"
   ]
  },
  {
   "cell_type": "code",
   "execution_count": 32,
   "id": "28880d5e-c7bf-4a10-882d-40f386b15844",
   "metadata": {},
   "outputs": [
    {
     "data": {
      "text/plain": [
       "'History'"
      ]
     },
     "execution_count": 32,
     "metadata": {},
     "output_type": "execute_result"
    }
   ],
   "source": [
    "lemma = WordNetLemmatizer()\n",
    "lemma.lemmatize('History')"
   ]
  },
  {
   "cell_type": "code",
   "execution_count": 33,
   "id": "c7854b10-cd53-4f36-a3e0-6141735d8457",
   "metadata": {},
   "outputs": [],
   "source": [
    "import re\n",
    "corpus = []\n",
    "for i in range(len(sentences)):\n",
    "    review = re.sub('[^a-zA-Z]',' ', sentences[i])\n",
    "    review = review.lower()\n",
    "    corpus.append(review)"
   ]
  },
  {
   "cell_type": "code",
   "execution_count": 34,
   "id": "0781fd8a-6e4b-4a35-bc51-625074b5faef",
   "metadata": {},
   "outputs": [
    {
     "data": {
      "text/plain": [
       "['narendra damodardas modi a   born    september       is an indian politician who has served as the prime minister of india since      ',\n",
       " 'modi was the chief minister of gujarat from      to      and is the member of parliament  mp  for varanasi ',\n",
       " 'he is a member of the bharatiya janata party  bjp  and of the rashtriya swayamsevak sangh  rss   a right wing hindutva paramilitary volunteer organisation ',\n",
       " 'he is the longest serving prime minister outside the indian national congress ',\n",
       " 'modi was born and raised in vadnagar  bombay state  present day gujarat   where he completed his secondary education ',\n",
       " 'he was introduced to the rss at the age of eight  becoming a full time worker for the organisation in gujarat in      ',\n",
       " 'the rss assigned him to the bjp in       and he rose through the party hierarchy  becoming general secretary in      ',\n",
       " ' b  in       modi was appointed chief minister of gujarat and elected to the legislative assembly soon after ',\n",
       " 'his administration is considered complicit in the      gujarat riots c  and has been criticised for its management of the crisis ',\n",
       " 'according to official records  a little over       people were killed  three quarters of whom were muslim  independent sources estimated       deaths  mostly muslim ',\n",
       " '    a special investigation team appointed by the supreme court of india in      found no evidence to initiate prosecution proceedings against him ',\n",
       " ' d  while his policies as chief minister were credited for encouraging economic growth  his administration was criticised for failing to significantly improve health  poverty and education indices in the state ',\n",
       " ' e ']"
      ]
     },
     "execution_count": 34,
     "metadata": {},
     "output_type": "execute_result"
    }
   ],
   "source": [
    "corpus"
   ]
  },
  {
   "cell_type": "code",
   "execution_count": 39,
   "id": "0dae2081-2711-425f-b559-eebeae8c8eb4",
   "metadata": {},
   "outputs": [
    {
     "name": "stdout",
     "output_type": "stream",
     "text": [
      "narendra\n",
      "damodardas\n",
      "modi\n",
      "born\n",
      "september\n",
      "indian\n",
      "politician\n",
      "served\n",
      "prime\n",
      "minister\n",
      "india\n",
      "since\n",
      "modi\n",
      "chief\n",
      "minister\n",
      "gujarat\n",
      "member\n",
      "parliament\n",
      "mp\n",
      "varanasi\n",
      "member\n",
      "bharatiya\n",
      "janata\n",
      "party\n",
      "bjp\n",
      "rashtriya\n",
      "swayamsevak\n",
      "sangh\n",
      "rss\n",
      "right\n",
      "wing\n",
      "hindutva\n",
      "paramilitary\n",
      "volunteer\n",
      "organisation\n",
      "longest\n",
      "serving\n",
      "prime\n",
      "minister\n",
      "outside\n",
      "indian\n",
      "national\n",
      "congress\n",
      "modi\n",
      "born\n",
      "raised\n",
      "vadnagar\n",
      "bombay\n",
      "state\n",
      "present\n",
      "day\n",
      "gujarat\n",
      "completed\n",
      "secondary\n",
      "education\n",
      "introduced\n",
      "rss\n",
      "age\n",
      "eight\n",
      "becoming\n",
      "full\n",
      "time\n",
      "worker\n",
      "organisation\n",
      "gujarat\n",
      "rss\n",
      "assigned\n",
      "bjp\n",
      "rose\n",
      "party\n",
      "hierarchy\n",
      "becoming\n",
      "general\n",
      "secretary\n",
      "b\n",
      "modi\n",
      "appointed\n",
      "chief\n",
      "minister\n",
      "gujarat\n",
      "elected\n",
      "legislative\n",
      "assembly\n",
      "soon\n",
      "administration\n",
      "considered\n",
      "complicit\n",
      "gujarat\n",
      "riot\n",
      "c\n",
      "criticised\n",
      "management\n",
      "crisis\n",
      "according\n",
      "official\n",
      "record\n",
      "little\n",
      "people\n",
      "killed\n",
      "three\n",
      "quarter\n",
      "muslim\n",
      "independent\n",
      "source\n",
      "estimated\n",
      "death\n",
      "mostly\n",
      "muslim\n",
      "special\n",
      "investigation\n",
      "team\n",
      "appointed\n",
      "supreme\n",
      "court\n",
      "india\n",
      "found\n",
      "evidence\n",
      "initiate\n",
      "prosecution\n",
      "proceeding\n",
      "policy\n",
      "chief\n",
      "minister\n",
      "credited\n",
      "encouraging\n",
      "economic\n",
      "growth\n",
      "administration\n",
      "criticised\n",
      "failing\n",
      "significantly\n",
      "improve\n",
      "health\n",
      "poverty\n",
      "education\n",
      "index\n",
      "state\n",
      "e\n"
     ]
    },
    {
     "name": "stderr",
     "output_type": "stream",
     "text": [
      "[nltk_data] Downloading package stopwords to\n",
      "[nltk_data]     C:\\Users\\suraj\\AppData\\Roaming\\nltk_data...\n",
      "[nltk_data]   Package stopwords is already up-to-date!\n"
     ]
    }
   ],
   "source": [
    "## Stemming\n",
    "nltk.download('stopwords')\n",
    "for corp in corpus:\n",
    "    words = nltk.word_tokenize(corp)\n",
    "    for word in words:\n",
    "        if word not in set(stopwords.words('english')):\n",
    "            print(lemma.lemmatize(word))"
   ]
  },
  {
   "cell_type": "code",
   "execution_count": 44,
   "id": "f6c523bc-2fe3-4799-95bc-9506d3b330e2",
   "metadata": {},
   "outputs": [],
   "source": [
    "from sklearn.feature_extraction.text import CountVectorizer\n",
    "cv = CountVectorizer(binary=True)\n",
    "\n",
    "x = cv.fit_transform(corpus)"
   ]
  },
  {
   "cell_type": "code",
   "execution_count": 45,
   "id": "08665ed3-e6e3-434a-82b7-f72b62ad0127",
   "metadata": {},
   "outputs": [
    {
     "data": {
      "text/plain": [
       "{'narendra': 76,\n",
       " 'damodardas': 28,\n",
       " 'modi': 72,\n",
       " 'born': 17,\n",
       " 'september': 106,\n",
       " 'is': 62,\n",
       " 'an': 5,\n",
       " 'indian': 57,\n",
       " 'politician': 89,\n",
       " 'who': 130,\n",
       " 'has': 46,\n",
       " 'served': 107,\n",
       " 'as': 8,\n",
       " 'the': 118,\n",
       " 'prime': 92,\n",
       " 'minister': 71,\n",
       " 'of': 79,\n",
       " 'india': 56,\n",
       " 'since': 110,\n",
       " 'was': 126,\n",
       " 'chief': 19,\n",
       " 'gujarat': 45,\n",
       " 'from': 41,\n",
       " 'to': 122,\n",
       " 'and': 6,\n",
       " 'member': 70,\n",
       " 'parliament': 85,\n",
       " 'mp': 74,\n",
       " 'for': 39,\n",
       " 'varanasi': 124,\n",
       " 'he': 47,\n",
       " 'bharatiya': 14,\n",
       " 'janata': 64,\n",
       " 'party': 86,\n",
       " 'bjp': 15,\n",
       " 'rashtriya': 97,\n",
       " 'swayamsevak': 116,\n",
       " 'sangh': 103,\n",
       " 'rss': 102,\n",
       " 'right': 99,\n",
       " 'wing': 132,\n",
       " 'hindutva': 51,\n",
       " 'paramilitary': 84,\n",
       " 'volunteer': 125,\n",
       " 'organisation': 81,\n",
       " 'longest': 68,\n",
       " 'serving': 108,\n",
       " 'outside': 82,\n",
       " 'national': 77,\n",
       " 'congress': 22,\n",
       " 'raised': 96,\n",
       " 'in': 54,\n",
       " 'vadnagar': 123,\n",
       " 'bombay': 16,\n",
       " 'state': 114,\n",
       " 'present': 91,\n",
       " 'day': 29,\n",
       " 'where': 128,\n",
       " 'completed': 20,\n",
       " 'his': 52,\n",
       " 'secondary': 104,\n",
       " 'education': 32,\n",
       " 'introduced': 60,\n",
       " 'at': 11,\n",
       " 'age': 4,\n",
       " 'eight': 33,\n",
       " 'becoming': 12,\n",
       " 'full': 42,\n",
       " 'time': 121,\n",
       " 'worker': 133,\n",
       " 'assigned': 10,\n",
       " 'him': 50,\n",
       " 'rose': 101,\n",
       " 'through': 120,\n",
       " 'hierarchy': 49,\n",
       " 'general': 43,\n",
       " 'secretary': 105,\n",
       " 'appointed': 7,\n",
       " 'elected': 34,\n",
       " 'legislative': 66,\n",
       " 'assembly': 9,\n",
       " 'soon': 111,\n",
       " 'after': 2,\n",
       " 'administration': 1,\n",
       " 'considered': 23,\n",
       " 'complicit': 21,\n",
       " 'riots': 100,\n",
       " 'been': 13,\n",
       " 'criticised': 27,\n",
       " 'its': 63,\n",
       " 'management': 69,\n",
       " 'crisis': 26,\n",
       " 'according': 0,\n",
       " 'official': 80,\n",
       " 'records': 98,\n",
       " 'little': 67,\n",
       " 'over': 83,\n",
       " 'people': 87,\n",
       " 'were': 127,\n",
       " 'killed': 65,\n",
       " 'three': 119,\n",
       " 'quarters': 95,\n",
       " 'whom': 131,\n",
       " 'muslim': 75,\n",
       " 'independent': 55,\n",
       " 'sources': 112,\n",
       " 'estimated': 36,\n",
       " 'deaths': 30,\n",
       " 'mostly': 73,\n",
       " 'special': 113,\n",
       " 'investigation': 61,\n",
       " 'team': 117,\n",
       " 'by': 18,\n",
       " 'supreme': 115,\n",
       " 'court': 24,\n",
       " 'found': 40,\n",
       " 'no': 78,\n",
       " 'evidence': 37,\n",
       " 'initiate': 59,\n",
       " 'prosecution': 94,\n",
       " 'proceedings': 93,\n",
       " 'against': 3,\n",
       " 'while': 129,\n",
       " 'policies': 88,\n",
       " 'credited': 25,\n",
       " 'encouraging': 35,\n",
       " 'economic': 31,\n",
       " 'growth': 44,\n",
       " 'failing': 38,\n",
       " 'significantly': 109,\n",
       " 'improve': 53,\n",
       " 'health': 48,\n",
       " 'poverty': 90,\n",
       " 'indices': 58}"
      ]
     },
     "execution_count": 45,
     "metadata": {},
     "output_type": "execute_result"
    }
   ],
   "source": [
    "cv.vocabulary_"
   ]
  },
  {
   "cell_type": "code",
   "execution_count": 46,
   "id": "0c7e08ca-2c5d-4bd0-b8b6-6ab3b2407717",
   "metadata": {},
   "outputs": [
    {
     "data": {
      "text/plain": [
       "'narendra damodardas modi a   born    september       is an indian politician who has served as the prime minister of india since      '"
      ]
     },
     "execution_count": 46,
     "metadata": {},
     "output_type": "execute_result"
    }
   ],
   "source": [
    "corpus[0]"
   ]
  },
  {
   "cell_type": "code",
   "execution_count": 47,
   "id": "f88484d6-7a2b-483a-aa5b-4948c4af99a7",
   "metadata": {},
   "outputs": [
    {
     "data": {
      "text/plain": [
       "array([[0, 0, 0, 0, 0, 1, 0, 0, 1, 0, 0, 0, 0, 0, 0, 0, 0, 1, 0, 0, 0, 0,\n",
       "        0, 0, 0, 0, 0, 0, 1, 0, 0, 0, 0, 0, 0, 0, 0, 0, 0, 0, 0, 0, 0, 0,\n",
       "        0, 0, 1, 0, 0, 0, 0, 0, 0, 0, 0, 0, 1, 1, 0, 0, 0, 0, 1, 0, 0, 0,\n",
       "        0, 0, 0, 0, 0, 1, 1, 0, 0, 0, 1, 0, 0, 1, 0, 0, 0, 0, 0, 0, 0, 0,\n",
       "        0, 1, 0, 0, 1, 0, 0, 0, 0, 0, 0, 0, 0, 0, 0, 0, 0, 0, 1, 1, 0, 0,\n",
       "        1, 0, 0, 0, 0, 0, 0, 0, 1, 0, 0, 0, 0, 0, 0, 0, 0, 0, 0, 0, 1, 0,\n",
       "        0, 0]])"
      ]
     },
     "execution_count": 47,
     "metadata": {},
     "output_type": "execute_result"
    }
   ],
   "source": [
    "x[0].toarray()"
   ]
  },
  {
   "cell_type": "code",
   "execution_count": null,
   "id": "04066ae4-18dc-430a-a0ad-dc1a7fb663d3",
   "metadata": {},
   "outputs": [],
   "source": []
  }
 ],
 "metadata": {
  "kernelspec": {
   "display_name": "Python 3 (ipykernel)",
   "language": "python",
   "name": "python3"
  },
  "language_info": {
   "codemirror_mode": {
    "name": "ipython",
    "version": 3
   },
   "file_extension": ".py",
   "mimetype": "text/x-python",
   "name": "python",
   "nbconvert_exporter": "python",
   "pygments_lexer": "ipython3",
   "version": "3.12.4"
  }
 },
 "nbformat": 4,
 "nbformat_minor": 5
}
